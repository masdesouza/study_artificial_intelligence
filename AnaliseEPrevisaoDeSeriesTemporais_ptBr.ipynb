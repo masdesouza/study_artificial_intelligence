{
  "nbformat": 4,
  "nbformat_minor": 0,
  "metadata": {
    "colab": {
      "name": "AnaliseEPrevisaoDeSeriesTemporais-ptBr.ipynb",
      "provenance": [],
      "collapsed_sections": [],
      "machine_shape": "hm",
      "authorship_tag": "ABX9TyNCrNEQMk/43WTfaMkWwXDL",
      "include_colab_link": true
    },
    "kernelspec": {
      "name": "python3",
      "display_name": "Python 3"
    },
    "language_info": {
      "name": "python"
    },
    "accelerator": "GPU"
  },
  "cells": [
    {
      "cell_type": "markdown",
      "metadata": {
        "id": "view-in-github",
        "colab_type": "text"
      },
      "source": [
        "<a href=\"https://colab.research.google.com/github/masdesouza/study_artificial_intelligence/blob/main/AnaliseEPrevisaoDeSeriesTemporais_ptBr.ipynb\" target=\"_parent\"><img src=\"https://colab.research.google.com/assets/colab-badge.svg\" alt=\"Open In Colab\"/></a>"
      ]
    },
    {
      "cell_type": "markdown",
      "metadata": {
        "id": "fVBD_IVHcB3z"
      },
      "source": [
        "Introduction Time Series and Forecasting\n",
        "\n",
        "Time Series Analysis (Biblia)\n",
        "\n",
        "Gridesearch\n",
        "\n",
        "https://qastack.com.br/stats/383246/modeling-time-series-sensor-data-with-machine-learning-techniques\n",
        "\n",
        "http://repositorio.unicamp.br/jspui/handle/REPOSIP/276076\n",
        "\n",
        "https://crislanio-ufc.medium.com/um-tratamento-para-outliers-e-dados-ausentes-em-s%C3%A9ries-temporais-multivariadas-em-redes-de-7e2a83878e69\n",
        "\n",
        "https://blog.dominodatalab.com/towards-predictive-accuracy-tuning-hyperparameters-and-pipelines/\n",
        "\n",
        "https://paulovasconcellos.com.br/como-saber-se-seu-modelo-de-machine-learning-est%C3%A1-funcionando-mesmo-a5892f6468b"
      ]
    },
    {
      "cell_type": "markdown",
      "metadata": {
        "id": "aJlYNdZuskJa"
      },
      "source": [
        "#Aula do dia 03/05/2021\n",
        "##Análise de Séries Temporais\n",
        "Objetivo: \n",
        "*   Comprender as características de um fenômeno temporal, investigando o mecanismo gerador da série temporal;\n",
        "*   Selecionar e estimar um modelo estocástico que possa ser utilizado para fazer previsão de valores futuros;\n",
        "> As previsões podem se feitas em curto prazo, ou a longo prazo: \n",
        "\n",
        "        Curto prazo: previsão de vendas, estoque, preço de ações...\n",
        "        Longo prazo: previsão de produtividade, população...\n",
        "\n",
        "\n",
        "*   Descrever apenas o comportamento da série verificando a existência de tendência, sazonalidade, ciclos, etc;\n",
        "*   Procurar periocidade relevantes nos dados.\n",
        "\n",
        "Aplicações:\n",
        "*   Entendimento de um comportamento temporal;\n",
        "*   Classificar um comportamento temporal;\n",
        "*   Detecção de anomalias;\n",
        "*   Previsão.\n",
        "\n",
        "\n",
        "---\n",
        "Campos de Aplicação:\n",
        "*   Mercado Financeiro;\n",
        "*   Meteorologia;\n",
        "*   Medicina;\n",
        "*   Contole de Qualidade e Processos;\n",
        "*   Governo;\n",
        "*   Epidemiologia;\n",
        "*   Transporte.\n",
        "\n",
        "\n",
        "\n",
        "---\n",
        "\n",
        "No geral, Análise de Séries Temporais consiste em:\n",
        "\n",
        "*   Analisar um conjunto de dados (ao longo do tempo);\n",
        "*   Item da lista\n",
        "*   Item da lista\n",
        "*   Item da lista\n",
        "\n",
        "\n",
        "\n",
        "\n",
        "\n",
        "\n",
        "\n",
        "\n",
        "\n",
        "\n",
        "\n",
        "\n",
        "\n",
        "\n",
        "\n",
        "\n",
        "\n",
        "\n",
        "\n",
        "\n",
        "\n",
        "https://www.ime.usp.br/~pam/ST.html\n",
        "\n",
        "\n"
      ]
    },
    {
      "cell_type": "markdown",
      "metadata": {
        "id": "uBrePFpDsu2G"
      },
      "source": [
        "\n",
        "Hierarchical time series forecasting is the process of generating coherent forecasts (or reconciling incoherent forecasts), allowing individual time series to be forecast individually, but preserving the relationships within the hierarchy."
      ]
    },
    {
      "cell_type": "markdown",
      "metadata": {
        "id": "vbqJQeMxx6gj"
      },
      "source": [
        "*   REMOVER TENDENCIAS E COMPONENTES SAZONAIS PARA OBTER RESIDUOS ESTACIONÁRIOS\n",
        "\n",
        "*   Escolher um modelo para ajustar aos residuos. Utilizando várias estatísticas amstrais como função de auto-correlação.\n",
        "\n",
        "*   Alcançar \n",
        "\n",
        "\n",
        "\n",
        "\n",
        "\n",
        "\n",
        "\n",
        "\n",
        "\n",
        "\n"
      ]
    },
    {
      "cell_type": "markdown",
      "metadata": {
        "id": "vZDptiLyzr3n"
      },
      "source": [
        "#Processo Estacionário\n",
        "É um processo que se mantém em equilibrio estatico com propriedade que não se alteram no tempo.\n"
      ]
    },
    {
      "cell_type": "markdown",
      "metadata": {
        "id": "O-JpqHpy0r-Q"
      },
      "source": [
        "#Correlograma"
      ]
    },
    {
      "cell_type": "markdown",
      "metadata": {
        "id": "T6E1AIBW02xU"
      },
      "source": [
        "#Modelos Estacionários: Função de corelação"
      ]
    },
    {
      "cell_type": "markdown",
      "metadata": {
        "id": "t1UpxnXt3mfm"
      },
      "source": [
        "# Remoção de Outlier"
      ]
    },
    {
      "cell_type": "markdown",
      "metadata": {
        "id": "m2KMpTSzs30g"
      },
      "source": [
        "#Importação das bibliotecas Python"
      ]
    },
    {
      "cell_type": "code",
      "metadata": {
        "colab": {
          "base_uri": "https://localhost:8080/"
        },
        "id": "FeIEkLCQsuT9",
        "outputId": "d17a1a91-fde5-4e05-fd02-0ce0e078cd23"
      },
      "source": [
        "import matplotlib.pyplot as plt\n",
        "import numpy as np\n",
        "import pandas as pd\n",
        "\n",
        "from google.colab import drive\n",
        "drive.mount('/content/drive')\n",
        "\n"
      ],
      "execution_count": null,
      "outputs": [
        {
          "output_type": "stream",
          "text": [
            "Drive already mounted at /content/drive; to attempt to forcibly remount, call drive.mount(\"/content/drive\", force_remount=True).\n"
          ],
          "name": "stdout"
        }
      ]
    },
    {
      "cell_type": "markdown",
      "metadata": {
        "id": "YhwU70171tc0"
      },
      "source": [
        "#Exercicio Aula 03/05/2021"
      ]
    },
    {
      "cell_type": "code",
      "metadata": {
        "colab": {
          "base_uri": "https://localhost:8080/",
          "height": 269
        },
        "id": "pB4_4kCvbiO2",
        "outputId": "4fc5569b-5584-4b5c-8482-14200b24869d"
      },
      "source": [
        "''' Slide 38\n",
        "\n",
        "1) Considere a série M-ICV:\n",
        "\n",
        "    a) Faça o gráfico da série; ela é estacionária?\n",
        "    b) Obtenha a primeira diferença da série e faça o grafico corresdente; a diferença é estacionária?\n",
        "    c) Mesmas questões de (b) para a segunda diferença.\n",
        "\n",
        "'''\n",
        "#a) Faça o gráfico da série; ela é estacionária?\n",
        "#Resposta: O gráfico mostra que a série não é estacionáaria, pois tem uma tendência de crescimento exponencial \n",
        "icv = \"/content/drive/MyDrive/BASE DE DADOS IA/AnaliseSeriesTemporais/ICV.xls\"\n",
        "dict_icv = pd.read_excel(icv, sheet_name='Plan1')\n",
        "\n",
        "df_icv = pd.DataFrame(dict_icv)\n",
        "\n",
        "df_icv.plot(kind='line',x='Mes/ano',y='ICV',color='blue')\n",
        "plt.show()\n"
      ],
      "execution_count": null,
      "outputs": [
        {
          "output_type": "display_data",
          "data": {
            "image/png": "[encoded data removed]",
            "text/plain": [
              "<Figure size 432x288 with 1 Axes>"
            ]
          },
          "metadata": {
            "tags": [],
            "needs_background": "light"
          }
        }
      ]
    },
    {
      "cell_type": "code",
      "metadata": {
        "id": "CpoLAKUW2x7g"
      },
      "source": [
        "#b) Obtenha a primeira diferença da série e faça o grafico corresdente; a diferença é estacionária?\n",
        "\n",
        "\n"
      ],
      "execution_count": null,
      "outputs": []
    },
    {
      "cell_type": "code",
      "metadata": {
        "id": "OUXsEpj921R-"
      },
      "source": [
        ""
      ],
      "execution_count": null,
      "outputs": []
    }
  ]
}